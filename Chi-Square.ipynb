{
 "cells": [
  {
   "cell_type": "code",
   "execution_count": 5,
   "id": "31f9bcde",
   "metadata": {},
   "outputs": [
    {
     "name": "stdout",
     "output_type": "stream",
     "text": [
      "We fail to reject the null hypothesis\n"
     ]
    }
   ],
   "source": [
    "# Case 1 \n",
    "import pandas as pd\n",
    "chi=pd.DataFrame()\n",
    "chi[\"Successful\"]=[41,33]\n",
    "chi[\"Unsuccessful\"]=[59,67]\n",
    "\n",
    "\n",
    "chi=chi.rename(index={0:\"Observed\",1:\"Expected\"})\n",
    "chi=chi.T\n",
    "\n",
    "chi['difference']=chi.loc[:,\"Observed\"] - chi.loc[:,\"Expected\"] \n",
    "chi['difference squared'] = chi.loc[:,'difference']**2\n",
    "\n",
    "chisqr=sum(chi.loc[:,'difference squared']/chi.loc[:,\"Expected\"])\n",
    "\n",
    "if chisqr<3.84:\n",
    "    print('We fail to reject the null hypothesis')\n",
    "else:\n",
    "    print('We reject the null hypothesis')"
   ]
  },
  {
   "cell_type": "code",
   "execution_count": 6,
   "id": "f2ddac49",
   "metadata": {},
   "outputs": [
    {
     "name": "stdout",
     "output_type": "stream",
     "text": [
      "We reject the null hypothesis\n"
     ]
    }
   ],
   "source": [
    "# Case 2\n",
    "\n",
    "chi=pd.DataFrame()\n",
    "chi[\"Successful\"]=[50,33]\n",
    "chi[\"Unsuccessful\"]=[59,67]\n",
    "\n",
    "chi=chi.rename(index={0:\"Observed\",1:\"Expected\"})\n",
    "chi=chi.T\n",
    "\n",
    "chi['difference']=chi.loc[:,\"Observed\"] - chi.loc[:,\"Expected\"] \n",
    "chi['difference squared'] = chi.loc[:,'difference']**2\n",
    "\n",
    "chisqr=sum(chi.loc[:,'difference squared']/chi.loc[:,\"Expected\"])\n",
    "\n",
    "if chisqr<3.84:\n",
    "    print('We fail to reject the null hypothesis')\n",
    "else:\n",
    "    print('We reject the null hypothesis')"
   ]
  },
  {
   "cell_type": "code",
   "execution_count": null,
   "id": "8f288fc3",
   "metadata": {},
   "outputs": [],
   "source": []
  }
 ],
 "metadata": {
  "kernelspec": {
   "display_name": "Python 3 (ipykernel)",
   "language": "python",
   "name": "python3"
  },
  "language_info": {
   "codemirror_mode": {
    "name": "ipython",
    "version": 3
   },
   "file_extension": ".py",
   "mimetype": "text/x-python",
   "name": "python",
   "nbconvert_exporter": "python",
   "pygments_lexer": "ipython3",
   "version": "3.9.12"
  }
 },
 "nbformat": 4,
 "nbformat_minor": 5
}
