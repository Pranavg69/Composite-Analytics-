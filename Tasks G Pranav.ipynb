{
 "cells": [
  {
   "cell_type": "code",
   "execution_count": 58,
   "id": "1c8d3d50",
   "metadata": {},
   "outputs": [
    {
     "name": "stdout",
     "output_type": "stream",
     "text": [
      "The standard deviation of the numbers is 5.732309743899051\n",
      "The variance of the numbers is 32.859375\n"
     ]
    }
   ],
   "source": [
    "def var(data):\n",
    "    import math\n",
    "    data_len = len(data)\n",
    "    mean = sum(data)/data_len\n",
    "    deviation= [(x-mean)**2 for x in data]\n",
    "    variance = sum(deviation)/data_len\n",
    "    std= math.sqrt(variance)\n",
    "    return std,variance\n",
    "\n",
    "lst=[1,2,3,4,5,10,15,17]\n",
    "(dev,var)=var(lst)\n",
    "print('The standard deviation of the numbers is', dev)\n",
    "print('The variance of the numbers is', var)\n"
   ]
  },
  {
   "cell_type": "code",
   "execution_count": null,
   "id": "9337658c",
   "metadata": {},
   "outputs": [],
   "source": []
  },
  {
   "cell_type": "code",
   "execution_count": 60,
   "id": "1db69c7a",
   "metadata": {},
   "outputs": [
    {
     "name": "stdout",
     "output_type": "stream",
     "text": [
      "The Skewness of the numbers is 1.3737917788516982\n"
     ]
    }
   ],
   "source": [
    "def skewness(num):\n",
    "    import numpy as np\n",
    "    mean = sum(num)/len(num)\n",
    "    deviation= [(x-mean)**2 for x in num]\n",
    "    variance = sum(deviation) / len(num)\n",
    "    std= math.sqrt(variance)\n",
    "    skewness= 3*(mean-np.median(num))/std\n",
    "    return skewness\n",
    "\n",
    "skew=skewness(lst)\n",
    "print('The Skewness of the numbers is', skew)"
   ]
  },
  {
   "cell_type": "code",
   "execution_count": null,
   "id": "34b6bf43",
   "metadata": {},
   "outputs": [],
   "source": [
    "\n"
   ]
  },
  {
   "cell_type": "code",
   "execution_count": null,
   "id": "6490c84d",
   "metadata": {},
   "outputs": [],
   "source": []
  },
  {
   "cell_type": "code",
   "execution_count": null,
   "id": "cd7e58f5",
   "metadata": {},
   "outputs": [],
   "source": []
  }
 ],
 "metadata": {
  "kernelspec": {
   "display_name": "Python 3 (ipykernel)",
   "language": "python",
   "name": "python3"
  },
  "language_info": {
   "codemirror_mode": {
    "name": "ipython",
    "version": 3
   },
   "file_extension": ".py",
   "mimetype": "text/x-python",
   "name": "python",
   "nbconvert_exporter": "python",
   "pygments_lexer": "ipython3",
   "version": "3.9.12"
  }
 },
 "nbformat": 4,
 "nbformat_minor": 5
}
