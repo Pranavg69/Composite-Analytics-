{
 "cells": [
  {
   "cell_type": "code",
   "execution_count": 59,
   "id": "155475d6",
   "metadata": {},
   "outputs": [],
   "source": [
    "import numpy as np\n",
    "import pandas as pd\n",
    "import random"
   ]
  },
  {
   "cell_type": "code",
   "execution_count": 45,
   "id": "df7f5d10",
   "metadata": {},
   "outputs": [],
   "source": [
    "s = np.random.normal(0,1,1000)\n",
    "df= pd.DataFrame(s)\n"
   ]
  },
  {
   "cell_type": "code",
   "execution_count": 55,
   "id": "63d5fb18",
   "metadata": {},
   "outputs": [
    {
     "data": {
      "text/html": [
       "<div>\n",
       "<style scoped>\n",
       "    .dataframe tbody tr th:only-of-type {\n",
       "        vertical-align: middle;\n",
       "    }\n",
       "\n",
       "    .dataframe tbody tr th {\n",
       "        vertical-align: top;\n",
       "    }\n",
       "\n",
       "    .dataframe thead th {\n",
       "        text-align: right;\n",
       "    }\n",
       "</style>\n",
       "<table border=\"1\" class=\"dataframe\">\n",
       "  <thead>\n",
       "    <tr style=\"text-align: right;\">\n",
       "      <th></th>\n",
       "      <th>Random distribution</th>\n",
       "    </tr>\n",
       "  </thead>\n",
       "  <tbody>\n",
       "    <tr>\n",
       "      <th>0</th>\n",
       "      <td>1.270838</td>\n",
       "    </tr>\n",
       "    <tr>\n",
       "      <th>1</th>\n",
       "      <td>0.318022</td>\n",
       "    </tr>\n",
       "    <tr>\n",
       "      <th>2</th>\n",
       "      <td>-0.260038</td>\n",
       "    </tr>\n",
       "    <tr>\n",
       "      <th>3</th>\n",
       "      <td>0.632177</td>\n",
       "    </tr>\n",
       "    <tr>\n",
       "      <th>4</th>\n",
       "      <td>-0.198378</td>\n",
       "    </tr>\n",
       "    <tr>\n",
       "      <th>...</th>\n",
       "      <td>...</td>\n",
       "    </tr>\n",
       "    <tr>\n",
       "      <th>995</th>\n",
       "      <td>0.043819</td>\n",
       "    </tr>\n",
       "    <tr>\n",
       "      <th>996</th>\n",
       "      <td>0.321392</td>\n",
       "    </tr>\n",
       "    <tr>\n",
       "      <th>997</th>\n",
       "      <td>2.630291</td>\n",
       "    </tr>\n",
       "    <tr>\n",
       "      <th>998</th>\n",
       "      <td>1.544702</td>\n",
       "    </tr>\n",
       "    <tr>\n",
       "      <th>999</th>\n",
       "      <td>-3.079769</td>\n",
       "    </tr>\n",
       "  </tbody>\n",
       "</table>\n",
       "<p>1000 rows × 1 columns</p>\n",
       "</div>"
      ],
      "text/plain": [
       "     Random distribution\n",
       "0               1.270838\n",
       "1               0.318022\n",
       "2              -0.260038\n",
       "3               0.632177\n",
       "4              -0.198378\n",
       "..                   ...\n",
       "995             0.043819\n",
       "996             0.321392\n",
       "997             2.630291\n",
       "998             1.544702\n",
       "999            -3.079769\n",
       "\n",
       "[1000 rows x 1 columns]"
      ]
     },
     "execution_count": 55,
     "metadata": {},
     "output_type": "execute_result"
    }
   ],
   "source": [
    "df.to_csv('C:\\\\Users\\\\gopranav\\\\Day3Task1.csv',index=False)\n",
    "df=pd.read_csv('C:\\\\Users\\\\gopranav\\\\Day3Task1.csv')\n",
    "df.columns=['Random distribution']\n",
    "df"
   ]
  },
  {
   "cell_type": "code",
   "execution_count": 63,
   "id": "8a170d49",
   "metadata": {},
   "outputs": [],
   "source": [
    "dfsample=df.loc[30:530]\n",
    "dfpop=df"
   ]
  },
  {
   "cell_type": "code",
   "execution_count": 91,
   "id": "a0518433",
   "metadata": {},
   "outputs": [],
   "source": [
    "zscore=(dfsample.mean()-dfpop.mean())/(dfpop.std()/(np.sqrt(501)))"
   ]
  },
  {
   "cell_type": "code",
   "execution_count": 94,
   "id": "813cdd61",
   "metadata": {},
   "outputs": [
    {
     "data": {
      "text/plain": [
       "Random distribution    0.245617\n",
       "dtype: float64"
      ]
     },
     "execution_count": 94,
     "metadata": {},
     "output_type": "execute_result"
    }
   ],
   "source": [
    "zscore\n"
   ]
  },
  {
   "cell_type": "code",
   "execution_count": null,
   "id": "686a5db4",
   "metadata": {},
   "outputs": [],
   "source": []
  },
  {
   "cell_type": "code",
   "execution_count": null,
   "id": "b2f86b18",
   "metadata": {},
   "outputs": [],
   "source": []
  },
  {
   "cell_type": "code",
   "execution_count": null,
   "id": "7acaf01c",
   "metadata": {},
   "outputs": [],
   "source": []
  }
 ],
 "metadata": {
  "kernelspec": {
   "display_name": "Python 3 (ipykernel)",
   "language": "python",
   "name": "python3"
  },
  "language_info": {
   "codemirror_mode": {
    "name": "ipython",
    "version": 3
   },
   "file_extension": ".py",
   "mimetype": "text/x-python",
   "name": "python",
   "nbconvert_exporter": "python",
   "pygments_lexer": "ipython3",
   "version": "3.9.12"
  }
 },
 "nbformat": 4,
 "nbformat_minor": 5
}
