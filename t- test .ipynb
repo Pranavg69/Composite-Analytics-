{
 "cells": [
  {
   "cell_type": "code",
   "execution_count": 6,
   "id": "977d8858",
   "metadata": {},
   "outputs": [],
   "source": [
    "import numpy as np\n",
    "import pandas as pd\n",
    "import scipy\n",
    "import statistics\n",
    "from scipy import stats\n",
    "import math\n",
    "data=pd.read_csv(r\"C:\\Users\\gopranav\\Downloads\\data.csv\")\n"
   ]
  },
  {
   "cell_type": "code",
   "execution_count": 5,
   "id": "92841776",
   "metadata": {},
   "outputs": [
    {
     "name": "stdout",
     "output_type": "stream",
     "text": [
      "The result: we reject the null hypothesis of the test\n",
      "The T-stat value of the test is -3.4453597195535766\n",
      "The P value of the test is 0.005472667818346521\n"
     ]
    }
   ],
   "source": [
    "data['Difference']=data['Before Course']-data['After Course']\n",
    "numerator=np.mean(data['Difference'])\n",
    "denominator=(math.sqrt(statistics.variance(data['Difference'])))/math.sqrt(len(data['Difference']))\n",
    "\n",
    "t=numerator/denominator\n",
    "p=scipy.stats.t.sf(abs(t),df=((data.shape[0])-1))*2\n",
    "\n",
    "if p<0.05:\n",
    "    print('The result: we reject the null hypothesis of the test')\n",
    "else:\n",
    "    print('The result: we fail to reject the null hypothesis of the test')\n",
    "    \n",
    "print('The T-stat value of the test is', t)\n",
    "print('The P value of the test is', p)"
   ]
  },
  {
   "cell_type": "code",
   "execution_count": null,
   "id": "925c9c95",
   "metadata": {},
   "outputs": [],
   "source": []
  }
 ],
 "metadata": {
  "kernelspec": {
   "display_name": "Python 3 (ipykernel)",
   "language": "python",
   "name": "python3"
  },
  "language_info": {
   "codemirror_mode": {
    "name": "ipython",
    "version": 3
   },
   "file_extension": ".py",
   "mimetype": "text/x-python",
   "name": "python",
   "nbconvert_exporter": "python",
   "pygments_lexer": "ipython3",
   "version": "3.9.12"
  }
 },
 "nbformat": 4,
 "nbformat_minor": 5
}
